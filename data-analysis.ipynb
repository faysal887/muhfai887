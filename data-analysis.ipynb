{
 "cells": [
  {
   "cell_type": "markdown",
   "metadata": {},
   "source": [
    "# Imports"
   ]
  },
  {
   "cell_type": "code",
   "execution_count": 138,
   "metadata": {},
   "outputs": [
    {
     "data": {
      "text/html": [
       "<style>.container { width:70% !important; }</style>"
      ],
      "text/plain": [
       "<IPython.core.display.HTML object>"
      ]
     },
     "metadata": {},
     "output_type": "display_data"
    }
   ],
   "source": [
    "# to prevent to restart kernel when any changes are made to any imported file\n",
    "%reload_ext autoreload\n",
    "%autoreload 2\n",
    "\n",
    "# to import any file from some other directory\n",
    "# sys.path.append(\"/tmp/fastai/old\")\n",
    "\n",
    "# to stop printing warnings\n",
    "import warnings\n",
    "warnings.filterwarnings('ignore')\n",
    "def warn(*args, **kwargs):\n",
    "    pass\n",
    "warnings.warn = warn\n",
    "    \n",
    "import pandas as pd\n",
    "import numpy as np\n",
    "pd.set_option('display.max_columns', 100)\n",
    "pd.set_option('display.max_rows', 1000000)\n",
    "pd.set_option('display.max_colwidth', 10000)\n",
    "\n",
    "# to increase cells width\n",
    "from IPython.core.display import display, HTML\n",
    "display(HTML(\"<style>.container { width:70% !important; }</style>\"))\n",
    "\n",
    "import matplotlib.pyplot as plt"
   ]
  },
  {
   "cell_type": "markdown",
   "metadata": {},
   "source": [
    "# DATA"
   ]
  },
  {
   "cell_type": "code",
   "execution_count": 116,
   "metadata": {},
   "outputs": [
    {
     "name": "stdout",
     "output_type": "stream",
     "text": [
      "(37295, 2)\n"
     ]
    },
    {
     "data": {
      "text/html": [
       "<div>\n",
       "<style scoped>\n",
       "    .dataframe tbody tr th:only-of-type {\n",
       "        vertical-align: middle;\n",
       "    }\n",
       "\n",
       "    .dataframe tbody tr th {\n",
       "        vertical-align: top;\n",
       "    }\n",
       "\n",
       "    .dataframe thead th {\n",
       "        text-align: right;\n",
       "    }\n",
       "</style>\n",
       "<table border=\"1\" class=\"dataframe\">\n",
       "  <thead>\n",
       "    <tr style=\"text-align: right;\">\n",
       "      <th></th>\n",
       "      <th>text</th>\n",
       "      <th>label</th>\n",
       "    </tr>\n",
       "  </thead>\n",
       "  <tbody>\n",
       "    <tr>\n",
       "      <th>0</th>\n",
       "      <td>zucker fabrik</td>\n",
       "      <td>ft</td>\n",
       "    </tr>\n",
       "    <tr>\n",
       "      <th>1</th>\n",
       "      <td>Lebensmittel kommssionierung</td>\n",
       "      <td>ft</td>\n",
       "    </tr>\n",
       "    <tr>\n",
       "      <th>2</th>\n",
       "      <td>geländer biegen</td>\n",
       "      <td>mr</td>\n",
       "    </tr>\n",
       "    <tr>\n",
       "      <th>3</th>\n",
       "      <td>gebäudeausrüstung technische</td>\n",
       "      <td>ct</td>\n",
       "    </tr>\n",
       "    <tr>\n",
       "      <th>4</th>\n",
       "      <td>kürbiskernöl softgels</td>\n",
       "      <td>ft</td>\n",
       "    </tr>\n",
       "  </tbody>\n",
       "</table>\n",
       "</div>"
      ],
      "text/plain": [
       "                           text label\n",
       "0                 zucker fabrik    ft\n",
       "1  Lebensmittel kommssionierung    ft\n",
       "2               geländer biegen    mr\n",
       "3  gebäudeausrüstung technische    ct\n",
       "4         kürbiskernöl softgels    ft"
      ]
     },
     "execution_count": 116,
     "metadata": {},
     "output_type": "execute_result"
    }
   ],
   "source": [
    "data=pd.read_csv('/Users/muhammadfaisal/Documents/jobs/visable/task/sample_data_for_task1.csv')\n",
    "print(data.shape)\n",
    "\n",
    "data.head()"
   ]
  },
  {
   "cell_type": "markdown",
   "metadata": {},
   "source": [
    "### labels-distribution"
   ]
  },
  {
   "cell_type": "code",
   "execution_count": 117,
   "metadata": {},
   "outputs": [
    {
     "data": {
      "text/plain": [
       "label\n",
       "ft     11226\n",
       "pkg     9617\n",
       "ct      5061\n",
       "mr      5016\n",
       "ch      3688\n",
       "cnc     2587\n",
       "Name: count, dtype: int64"
      ]
     },
     "execution_count": 117,
     "metadata": {},
     "output_type": "execute_result"
    }
   ],
   "source": [
    "data.label.value_counts()"
   ]
  },
  {
   "cell_type": "code",
   "execution_count": 140,
   "metadata": {},
   "outputs": [
    {
     "data": {
      "text/plain": [
       "<Axes: xlabel='label'>"
      ]
     },
     "execution_count": 140,
     "metadata": {},
     "output_type": "execute_result"
    },
    {
     "data": {
      "image/png": "[encoded data removed]",
      "text/plain": [
       "<Figure size 640x480 with 1 Axes>"
      ]
     },
     "metadata": {},
     "output_type": "display_data"
    }
   ],
   "source": [
    "\n",
    "data.label.value_counts().plot(kind='bar')"
   ]
  },
  {
   "cell_type": "code",
   "execution_count": 118,
   "metadata": {},
   "outputs": [
    {
     "data": {
      "text/plain": [
       "label\n",
       "ft     0.301815\n",
       "pkg    0.258556\n",
       "ct     0.136067\n",
       "mr     0.134857\n",
       "ch     0.099153\n",
       "cnc    0.069552\n",
       "Name: proportion, dtype: float64"
      ]
     },
     "execution_count": 118,
     "metadata": {},
     "output_type": "execute_result"
    }
   ],
   "source": [
    "data.label.value_counts(normalize=True)\n"
   ]
  },
  {
   "cell_type": "markdown",
   "metadata": {},
   "source": [
    "### text-repeatition"
   ]
  },
  {
   "cell_type": "code",
   "execution_count": 119,
   "metadata": {},
   "outputs": [
    {
     "name": "stdout",
     "output_type": "stream",
     "text": [
      "95.0% text is unique\n"
     ]
    }
   ],
   "source": [
    "print(f'{round(data.text.nunique()/data.shape[0],2)*100}% text is unique')"
   ]
  },
  {
   "cell_type": "markdown",
   "metadata": {},
   "source": [
    "### empty-labels"
   ]
  },
  {
   "cell_type": "code",
   "execution_count": 120,
   "metadata": {},
   "outputs": [
    {
     "data": {
      "text/plain": [
       "100"
      ]
     },
     "execution_count": 120,
     "metadata": {},
     "output_type": "execute_result"
    }
   ],
   "source": [
    "data.label.isnull().sum()\n"
   ]
  },
  {
   "cell_type": "code",
   "execution_count": 142,
   "metadata": {},
   "outputs": [
    {
     "data": {
      "text/plain": [
       "(300, 2)"
      ]
     },
     "execution_count": 142,
     "metadata": {},
     "output_type": "execute_result"
    }
   ],
   "source": [
    "data[data.text==' '].shape"
   ]
  },
  {
   "cell_type": "code",
   "execution_count": null,
   "metadata": {},
   "outputs": [],
   "source": [
    "37295"
   ]
  },
  {
   "cell_type": "markdown",
   "metadata": {},
   "source": [
    "### max-text-length"
   ]
  },
  {
   "cell_type": "code",
   "execution_count": 121,
   "metadata": {},
   "outputs": [
    {
     "data": {
      "text/plain": [
       "798"
      ]
     },
     "execution_count": 121,
     "metadata": {},
     "output_type": "execute_result"
    }
   ],
   "source": [
    "data.text.str.len().max()\n"
   ]
  },
  {
   "cell_type": "markdown",
   "metadata": {},
   "source": [
    "### text-labels overlap\n"
   ]
  },
  {
   "cell_type": "code",
   "execution_count": 122,
   "metadata": {},
   "outputs": [
    {
     "data": {
      "text/html": [
       "<div>\n",
       "<style scoped>\n",
       "    .dataframe tbody tr th:only-of-type {\n",
       "        vertical-align: middle;\n",
       "    }\n",
       "\n",
       "    .dataframe tbody tr th {\n",
       "        vertical-align: top;\n",
       "    }\n",
       "\n",
       "    .dataframe thead th {\n",
       "        text-align: right;\n",
       "    }\n",
       "</style>\n",
       "<table border=\"1\" class=\"dataframe\">\n",
       "  <thead>\n",
       "    <tr style=\"text-align: right;\">\n",
       "      <th></th>\n",
       "      <th>count</th>\n",
       "    </tr>\n",
       "    <tr>\n",
       "      <th>text</th>\n",
       "      <th></th>\n",
       "    </tr>\n",
       "  </thead>\n",
       "  <tbody>\n",
       "    <tr>\n",
       "      <th>protein knusp</th>\n",
       "      <td>1</td>\n",
       "    </tr>\n",
       "    <tr>\n",
       "      <th>Lebensmittel kaffe</th>\n",
       "      <td>1</td>\n",
       "    </tr>\n",
       "    <tr>\n",
       "      <th>Olivenöl Marokko</th>\n",
       "      <td>1</td>\n",
       "    </tr>\n",
       "    <tr>\n",
       "      <th>cnc fertigung stefan</th>\n",
       "      <td>1</td>\n",
       "    </tr>\n",
       "    <tr>\n",
       "      <th>Lohnabfüllung molkedrink</th>\n",
       "      <td>1</td>\n",
       "    </tr>\n",
       "    <tr>\n",
       "      <th>gerüstbau service</th>\n",
       "      <td>1</td>\n",
       "    </tr>\n",
       "    <tr>\n",
       "      <th>pasteten wurst</th>\n",
       "      <td>1</td>\n",
       "    </tr>\n",
       "    <tr>\n",
       "      <th>installation kälte</th>\n",
       "      <td>1</td>\n",
       "    </tr>\n",
       "    <tr>\n",
       "      <th>metallbau möbel</th>\n",
       "      <td>1</td>\n",
       "    </tr>\n",
       "    <tr>\n",
       "      <th>Lippenpflege hyaluron</th>\n",
       "      <td>1</td>\n",
       "    </tr>\n",
       "    <tr>\n",
       "      <th>chemikalien kunststoff</th>\n",
       "      <td>1</td>\n",
       "    </tr>\n",
       "    <tr>\n",
       "      <th>taschen mit druck</th>\n",
       "      <td>1</td>\n",
       "    </tr>\n",
       "    <tr>\n",
       "      <th>Montagen von Aluminiumprofil Zubehör Küche und Bad</th>\n",
       "      <td>1</td>\n",
       "    </tr>\n",
       "    <tr>\n",
       "      <th>Kunststoff Kleinteile</th>\n",
       "      <td>1</td>\n",
       "    </tr>\n",
       "    <tr>\n",
       "      <th>Hersteller und lieferanten von kunststoffflaschen</th>\n",
       "      <td>1</td>\n",
       "    </tr>\n",
       "    <tr>\n",
       "      <th>Drehmaschinen hersteller</th>\n",
       "      <td>1</td>\n",
       "    </tr>\n",
       "    <tr>\n",
       "      <th>Schoko brezel</th>\n",
       "      <td>1</td>\n",
       "    </tr>\n",
       "    <tr>\n",
       "      <th>Sägen für Blechprofile, automatische</th>\n",
       "      <td>1</td>\n",
       "    </tr>\n",
       "    <tr>\n",
       "      <th>Tiefkühl essen</th>\n",
       "      <td>1</td>\n",
       "    </tr>\n",
       "    <tr>\n",
       "      <th>läppen in lohn</th>\n",
       "      <td>1</td>\n",
       "    </tr>\n",
       "    <tr>\n",
       "      <th>co-extruder kunststoff</th>\n",
       "      <td>1</td>\n",
       "    </tr>\n",
       "    <tr>\n",
       "      <th>notdienst notstromaggregat</th>\n",
       "      <td>1</td>\n",
       "    </tr>\n",
       "    <tr>\n",
       "      <th>tiefkühlkost beeren</th>\n",
       "      <td>1</td>\n",
       "    </tr>\n",
       "    <tr>\n",
       "      <th>cnc fräsmaschine für granit Marmor</th>\n",
       "      <td>2</td>\n",
       "    </tr>\n",
       "    <tr>\n",
       "      <th>dreherei fräserei</th>\n",
       "      <td>1</td>\n",
       "    </tr>\n",
       "    <tr>\n",
       "      <th>schlauchfolie lebensmittelecht</th>\n",
       "      <td>1</td>\n",
       "    </tr>\n",
       "    <tr>\n",
       "      <th>Industrieklettern (Dienstleistung) Gerry</th>\n",
       "      <td>1</td>\n",
       "    </tr>\n",
       "    <tr>\n",
       "      <th>verpackungsmaschinen hersteller</th>\n",
       "      <td>2</td>\n",
       "    </tr>\n",
       "    <tr>\n",
       "      <th>flüssiges Reinigungswachs</th>\n",
       "      <td>1</td>\n",
       "    </tr>\n",
       "    <tr>\n",
       "      <th>Stanzautomaten für verpackungen</th>\n",
       "      <td>1</td>\n",
       "    </tr>\n",
       "    <tr>\n",
       "      <th>gebrauchte sägeautomaten</th>\n",
       "      <td>1</td>\n",
       "    </tr>\n",
       "    <tr>\n",
       "      <th>frische zwetschgen</th>\n",
       "      <td>1</td>\n",
       "    </tr>\n",
       "    <tr>\n",
       "      <th>0402544077</th>\n",
       "      <td>1</td>\n",
       "    </tr>\n",
       "    <tr>\n",
       "      <th>acidum formicum Synergon</th>\n",
       "      <td>2</td>\n",
       "    </tr>\n",
       "    <tr>\n",
       "      <th>maschinen und anlagenbauer der optische indusrie</th>\n",
       "      <td>1</td>\n",
       "    </tr>\n",
       "    <tr>\n",
       "      <th>beschneide- und umformmaschine</th>\n",
       "      <td>1</td>\n",
       "    </tr>\n",
       "    <tr>\n",
       "      <th>cashew nüsse</th>\n",
       "      <td>1</td>\n",
       "    </tr>\n",
       "    <tr>\n",
       "      <th>Zuschnitte aus Acrylglas 12 mm</th>\n",
       "      <td>1</td>\n",
       "    </tr>\n",
       "    <tr>\n",
       "      <th>tauben halle</th>\n",
       "      <td>1</td>\n",
       "    </tr>\n",
       "    <tr>\n",
       "      <th>händler für schuhfabrik</th>\n",
       "      <td>1</td>\n",
       "    </tr>\n",
       "    <tr>\n",
       "      <th>getränkekisten regal</th>\n",
       "      <td>1</td>\n",
       "    </tr>\n",
       "    <tr>\n",
       "      <th>bio ingwer tee</th>\n",
       "      <td>1</td>\n",
       "    </tr>\n",
       "    <tr>\n",
       "      <th>biegen kanten</th>\n",
       "      <td>1</td>\n",
       "    </tr>\n",
       "    <tr>\n",
       "      <th>schutzstrumpf verpackung</th>\n",
       "      <td>1</td>\n",
       "    </tr>\n",
       "    <tr>\n",
       "      <th>kunstoff bearbeitung</th>\n",
       "      <td>1</td>\n",
       "    </tr>\n",
       "    <tr>\n",
       "      <th>Clips für kabelkanal</th>\n",
       "      <td>1</td>\n",
       "    </tr>\n",
       "    <tr>\n",
       "      <th>bio nüsse schokolieren</th>\n",
       "      <td>1</td>\n",
       "    </tr>\n",
       "    <tr>\n",
       "      <th>kunststoff griffe zum schrauben</th>\n",
       "      <td>1</td>\n",
       "    </tr>\n",
       "    <tr>\n",
       "      <th>Eiweiß cerealien</th>\n",
       "      <td>1</td>\n",
       "    </tr>\n",
       "    <tr>\n",
       "      <th>cnc bearbeitungszentrum kunststoff</th>\n",
       "      <td>1</td>\n",
       "    </tr>\n",
       "    <tr>\n",
       "      <th>elektrolyt rundzellen</th>\n",
       "      <td>1</td>\n",
       "    </tr>\n",
       "    <tr>\n",
       "      <th>umverpackung herstellung</th>\n",
       "      <td>1</td>\n",
       "    </tr>\n",
       "    <tr>\n",
       "      <th>potassium nitrate</th>\n",
       "      <td>1</td>\n",
       "    </tr>\n",
       "    <tr>\n",
       "      <th>Kanister 1l</th>\n",
       "      <td>1</td>\n",
       "    </tr>\n",
       "    <tr>\n",
       "      <th>behälter beschichtungen</th>\n",
       "      <td>1</td>\n",
       "    </tr>\n",
       "    <tr>\n",
       "      <th>Brücken Sanierung</th>\n",
       "      <td>1</td>\n",
       "    </tr>\n",
       "    <tr>\n",
       "      <th>fliesen trockenbau</th>\n",
       "      <td>1</td>\n",
       "    </tr>\n",
       "    <tr>\n",
       "      <th>kartonverpackungen für castoren</th>\n",
       "      <td>1</td>\n",
       "    </tr>\n",
       "    <tr>\n",
       "      <th>bautech gesellschaft für BERATUNG, planung und durchführung von baumaßnahmen MBH</th>\n",
       "      <td>1</td>\n",
       "    </tr>\n",
       "    <tr>\n",
       "      <th>pistazien türkei</th>\n",
       "      <td>1</td>\n",
       "    </tr>\n",
       "    <tr>\n",
       "      <th>metakunststofffaden für Dokumentellisch bedampfte kunststofffäden</th>\n",
       "      <td>1</td>\n",
       "    </tr>\n",
       "    <tr>\n",
       "      <th>cashew nüsse bio</th>\n",
       "      <td>1</td>\n",
       "    </tr>\n",
       "    <tr>\n",
       "      <th>Dämmung Keller</th>\n",
       "      <td>2</td>\n",
       "    </tr>\n",
       "    <tr>\n",
       "      <th>pita brote</th>\n",
       "      <td>1</td>\n",
       "    </tr>\n",
       "    <tr>\n",
       "      <th>Lebensmittelverpackungsunternehmen Co-Packer</th>\n",
       "      <td>1</td>\n",
       "    </tr>\n",
       "    <tr>\n",
       "      <th>ührungshülsensatz, Bremssattel  mit führungsrollen, mit folien</th>\n",
       "      <td>1</td>\n",
       "    </tr>\n",
       "    <tr>\n",
       "      <th>karton verpackungen maschinen</th>\n",
       "      <td>1</td>\n",
       "    </tr>\n",
       "    <tr>\n",
       "      <th>gewinde walzen</th>\n",
       "      <td>1</td>\n",
       "    </tr>\n",
       "    <tr>\n",
       "      <th>kürbiskerne gemahlen</th>\n",
       "      <td>1</td>\n",
       "    </tr>\n",
       "    <tr>\n",
       "      <th>standbeutel hersteller</th>\n",
       "      <td>1</td>\n",
       "    </tr>\n",
       "    <tr>\n",
       "      <th>keramik wasserstrahlschneiden</th>\n",
       "      <td>1</td>\n",
       "    </tr>\n",
       "    <tr>\n",
       "      <th>Architekten Stadtplaner Alsdorf</th>\n",
       "      <td>1</td>\n",
       "    </tr>\n",
       "    <tr>\n",
       "      <th>Herstellung chips</th>\n",
       "      <td>1</td>\n",
       "    </tr>\n",
       "    <tr>\n",
       "      <th>Mango Früchte</th>\n",
       "      <td>1</td>\n",
       "    </tr>\n",
       "    <tr>\n",
       "      <th>planung hochbau</th>\n",
       "      <td>1</td>\n",
       "    </tr>\n",
       "    <tr>\n",
       "      <th>Kükenhähne für Mörtel</th>\n",
       "      <td>1</td>\n",
       "    </tr>\n",
       "    <tr>\n",
       "      <th>test241@mail.com</th>\n",
       "      <td>1</td>\n",
       "    </tr>\n",
       "    <tr>\n",
       "      <th>siegelrandbeutel vakuumbeutel</th>\n",
       "      <td>1</td>\n",
       "    </tr>\n",
       "    <tr>\n",
       "      <th>CNC-Fräsarbeiten halle saale</th>\n",
       "      <td>1</td>\n",
       "    </tr>\n",
       "    <tr>\n",
       "      <th>lohnVerpacken von Nüssen</th>\n",
       "      <td>1</td>\n",
       "    </tr>\n",
       "    <tr>\n",
       "      <th>mais chips</th>\n",
       "      <td>1</td>\n",
       "    </tr>\n",
       "    <tr>\n",
       "      <th>Trockenfrüchte aprikose</th>\n",
       "      <td>1</td>\n",
       "    </tr>\n",
       "    <tr>\n",
       "      <th>katalysator beschichtung</th>\n",
       "      <td>1</td>\n",
       "    </tr>\n",
       "    <tr>\n",
       "      <th>softgelkapsel vitamine</th>\n",
       "      <td>2</td>\n",
       "    </tr>\n",
       "    <tr>\n",
       "      <th>flächen desinfektionsmittel</th>\n",
       "      <td>1</td>\n",
       "    </tr>\n",
       "    <tr>\n",
       "      <th>papier rollenhalter</th>\n",
       "      <td>1</td>\n",
       "    </tr>\n",
       "    <tr>\n",
       "      <th>transportgurte lebensmittel</th>\n",
       "      <td>1</td>\n",
       "    </tr>\n",
       "    <tr>\n",
       "      <th>Wein importeur</th>\n",
       "      <td>1</td>\n",
       "    </tr>\n",
       "    <tr>\n",
       "      <th>dose ohne deckel</th>\n",
       "      <td>1</td>\n",
       "    </tr>\n",
       "    <tr>\n",
       "      <th>Montagen von bett</th>\n",
       "      <td>1</td>\n",
       "    </tr>\n",
       "    <tr>\n",
       "      <th>Dach anheben</th>\n",
       "      <td>1</td>\n",
       "    </tr>\n",
       "    <tr>\n",
       "      <th>CNC-Rundschleifen matritzen</th>\n",
       "      <td>1</td>\n",
       "    </tr>\n",
       "    <tr>\n",
       "      <th>CNC Holzdrechslerei</th>\n",
       "      <td>1</td>\n",
       "    </tr>\n",
       "    <tr>\n",
       "      <th>kunststoff Verschleißplatten</th>\n",
       "      <td>1</td>\n",
       "    </tr>\n",
       "    <tr>\n",
       "      <th>vakuum tiefziehteile</th>\n",
       "      <td>2</td>\n",
       "    </tr>\n",
       "    <tr>\n",
       "      <th>zotter schokolade</th>\n",
       "      <td>1</td>\n",
       "    </tr>\n",
       "    <tr>\n",
       "      <th>zwetschgen aus</th>\n",
       "      <td>1</td>\n",
       "    </tr>\n",
       "    <tr>\n",
       "      <th>großhändler lebensmittel</th>\n",
       "      <td>1</td>\n",
       "    </tr>\n",
       "    <tr>\n",
       "      <th>flott Schleifmaschine</th>\n",
       "      <td>1</td>\n",
       "    </tr>\n",
       "    <tr>\n",
       "      <th>gefrorene kartoffel</th>\n",
       "      <td>1</td>\n",
       "    </tr>\n",
       "  </tbody>\n",
       "</table>\n",
       "</div>"
      ],
      "text/plain": [
       "                                                                                   count\n",
       "text                                                                                    \n",
       "protein knusp                                                                          1\n",
       "Lebensmittel kaffe                                                                     1\n",
       "Olivenöl Marokko                                                                       1\n",
       "cnc fertigung stefan                                                                   1\n",
       "Lohnabfüllung molkedrink                                                               1\n",
       "gerüstbau service                                                                      1\n",
       "pasteten wurst                                                                         1\n",
       "installation kälte                                                                     1\n",
       "metallbau möbel                                                                        1\n",
       "Lippenpflege hyaluron                                                                  1\n",
       "chemikalien kunststoff                                                                 1\n",
       "taschen mit druck                                                                      1\n",
       "Montagen von Aluminiumprofil Zubehör Küche und Bad                                     1\n",
       "Kunststoff Kleinteile                                                                  1\n",
       "Hersteller und lieferanten von kunststoffflaschen                                      1\n",
       "Drehmaschinen hersteller                                                               1\n",
       "Schoko brezel                                                                          1\n",
       "Sägen für Blechprofile, automatische                                                   1\n",
       "Tiefkühl essen                                                                         1\n",
       "läppen in lohn                                                                         1\n",
       "co-extruder kunststoff                                                                 1\n",
       "notdienst notstromaggregat                                                             1\n",
       "tiefkühlkost beeren                                                                    1\n",
       "cnc fräsmaschine für granit Marmor                                                     2\n",
       "dreherei fräserei                                                                      1\n",
       "schlauchfolie lebensmittelecht                                                         1\n",
       "Industrieklettern (Dienstleistung) Gerry                                               1\n",
       "verpackungsmaschinen hersteller                                                        2\n",
       "flüssiges Reinigungswachs                                                              1\n",
       "Stanzautomaten für verpackungen                                                        1\n",
       "gebrauchte sägeautomaten                                                               1\n",
       "frische zwetschgen                                                                     1\n",
       "0402544077                                                                             1\n",
       "acidum formicum Synergon                                                               2\n",
       "maschinen und anlagenbauer der optische indusrie                                       1\n",
       "beschneide- und umformmaschine                                                         1\n",
       "cashew nüsse                                                                           1\n",
       "Zuschnitte aus Acrylglas 12 mm                                                         1\n",
       "tauben halle                                                                           1\n",
       "händler für schuhfabrik                                                                1\n",
       "getränkekisten regal                                                                   1\n",
       "bio ingwer tee                                                                         1\n",
       "biegen kanten                                                                          1\n",
       "schutzstrumpf verpackung                                                               1\n",
       "kunstoff bearbeitung                                                                   1\n",
       "Clips für kabelkanal                                                                   1\n",
       "bio nüsse schokolieren                                                                 1\n",
       "kunststoff griffe zum schrauben                                                        1\n",
       "Eiweiß cerealien                                                                       1\n",
       "cnc bearbeitungszentrum kunststoff                                                     1\n",
       "elektrolyt rundzellen                                                                  1\n",
       "umverpackung herstellung                                                               1\n",
       "potassium nitrate                                                                      1\n",
       "Kanister 1l                                                                            1\n",
       "behälter beschichtungen                                                                1\n",
       "Brücken Sanierung                                                                      1\n",
       "fliesen trockenbau                                                                     1\n",
       "kartonverpackungen für castoren                                                        1\n",
       "bautech gesellschaft für BERATUNG, planung und durchführung von baumaßnahmen MBH      1\n",
       "pistazien türkei                                                                       1\n",
       "metakunststofffaden für Dokumentellisch bedampfte kunststofffäden                      1\n",
       "cashew nüsse bio                                                                       1\n",
       "Dämmung Keller                                                                         2\n",
       "pita brote                                                                             1\n",
       "Lebensmittelverpackungsunternehmen Co-Packer                                           1\n",
       "ührungshülsensatz, Bremssattel  mit führungsrollen, mit folien                         1\n",
       "karton verpackungen maschinen                                                          1\n",
       "gewinde walzen                                                                         1\n",
       "kürbiskerne gemahlen                                                                   1\n",
       "standbeutel hersteller                                                                 1\n",
       "keramik wasserstrahlschneiden                                                          1\n",
       "Architekten Stadtplaner Alsdorf                                                        1\n",
       "Herstellung chips                                                                      1\n",
       "Mango Früchte                                                                          1\n",
       "planung hochbau                                                                        1\n",
       "Kükenhähne für Mörtel                                                                  1\n",
       "test241@mail.com                                                                       1\n",
       "siegelrandbeutel vakuumbeutel                                                          1\n",
       "CNC-Fräsarbeiten halle saale                                                           1\n",
       "lohnVerpacken von Nüssen                                                               1\n",
       "mais chips                                                                             1\n",
       "Trockenfrüchte aprikose                                                                1\n",
       "katalysator beschichtung                                                               1\n",
       "softgelkapsel vitamine                                                                 2\n",
       "flächen desinfektionsmittel                                                            1\n",
       "papier rollenhalter                                                                    1\n",
       "transportgurte lebensmittel                                                            1\n",
       "Wein importeur                                                                         1\n",
       "dose ohne deckel                                                                       1\n",
       "Montagen von bett                                                                      1\n",
       "Dach anheben                                                                           1\n",
       "CNC-Rundschleifen matritzen                                                            1\n",
       "CNC Holzdrechslerei                                                                    1\n",
       "kunststoff Verschleißplatten                                                           1\n",
       "vakuum tiefziehteile                                                                   2\n",
       "zotter schokolade                                                                      1\n",
       "zwetschgen aus                                                                         1\n",
       "großhändler lebensmittel                                                               1\n",
       "flott Schleifmaschine                                                                  1\n",
       "gefrorene kartoffel                                                                    1"
      ]
     },
     "execution_count": 122,
     "metadata": {},
     "output_type": "execute_result"
    }
   ],
   "source": [
    "data.text.value_counts().to_frame().sample(100)"
   ]
  },
  {
   "cell_type": "markdown",
   "metadata": {},
   "source": [
    "# CLEANING"
   ]
  },
  {
   "cell_type": "code",
   "execution_count": 123,
   "metadata": {},
   "outputs": [],
   "source": [
    "df=data.copy()"
   ]
  },
  {
   "cell_type": "code",
   "execution_count": 124,
   "metadata": {},
   "outputs": [],
   "source": [
    "# dropping the 'text' column with empty values i.e. \" \"\n",
    "df=df[df.text!=' ']\n",
    "\n",
    "# dropping the 'label' column with empty values\n",
    "df=df[df.label.notnull()]\n",
    "\n",
    "# clean text\n",
    "df['text']=(df.text.str.replace('\"','')\n",
    "           .str.replace('-\\t','')\n",
    "           .str.replace('+',''))"
   ]
  },
  {
   "cell_type": "code",
   "execution_count": null,
   "metadata": {},
   "outputs": [],
   "source": []
  },
  {
   "cell_type": "markdown",
   "metadata": {},
   "source": [
    "# MODEL"
   ]
  },
  {
   "cell_type": "code",
   "execution_count": 125,
   "metadata": {},
   "outputs": [],
   "source": [
    "from sklearn.model_selection import train_test_split\n",
    "from sklearn.metrics import confusion_matrix, classification_report\n",
    "import fasttext\n"
   ]
  },
  {
   "cell_type": "markdown",
   "metadata": {},
   "source": [
    "### data-prep"
   ]
  },
  {
   "cell_type": "code",
   "execution_count": 126,
   "metadata": {},
   "outputs": [],
   "source": [
    "\n",
    "df['label_ft'] = '__label__'+df['label']\n",
    "\n",
    "df['text_ft']=df.label_ft+ ' ' +df.text\n"
   ]
  },
  {
   "cell_type": "code",
   "execution_count": 127,
   "metadata": {},
   "outputs": [
    {
     "data": {
      "text/plain": [
       "label_ft\n",
       "__label__ft     11176\n",
       "__label__pkg     9567\n",
       "__label__ct      5011\n",
       "__label__mr      4966\n",
       "__label__ch      3638\n",
       "__label__cnc     2537\n",
       "Name: count, dtype: int64"
      ]
     },
     "execution_count": 127,
     "metadata": {},
     "output_type": "execute_result"
    }
   ],
   "source": [
    "df.label_ft.value_counts()"
   ]
  },
  {
   "cell_type": "code",
   "execution_count": 128,
   "metadata": {},
   "outputs": [
    {
     "data": {
      "text/html": [
       "<div>\n",
       "<style scoped>\n",
       "    .dataframe tbody tr th:only-of-type {\n",
       "        vertical-align: middle;\n",
       "    }\n",
       "\n",
       "    .dataframe tbody tr th {\n",
       "        vertical-align: top;\n",
       "    }\n",
       "\n",
       "    .dataframe thead th {\n",
       "        text-align: right;\n",
       "    }\n",
       "</style>\n",
       "<table border=\"1\" class=\"dataframe\">\n",
       "  <thead>\n",
       "    <tr style=\"text-align: right;\">\n",
       "      <th></th>\n",
       "      <th>text_ft</th>\n",
       "    </tr>\n",
       "  </thead>\n",
       "  <tbody>\n",
       "    <tr>\n",
       "      <th>0</th>\n",
       "      <td>__label__ft zucker fabrik</td>\n",
       "    </tr>\n",
       "    <tr>\n",
       "      <th>1</th>\n",
       "      <td>__label__ft Lebensmittel kommssionierung</td>\n",
       "    </tr>\n",
       "    <tr>\n",
       "      <th>2</th>\n",
       "      <td>__label__mr geländer biegen</td>\n",
       "    </tr>\n",
       "    <tr>\n",
       "      <th>3</th>\n",
       "      <td>__label__ct gebäudeausrüstung technische</td>\n",
       "    </tr>\n",
       "    <tr>\n",
       "      <th>4</th>\n",
       "      <td>__label__ft kürbiskernöl softgels</td>\n",
       "    </tr>\n",
       "  </tbody>\n",
       "</table>\n",
       "</div>"
      ],
      "text/plain": [
       "                                    text_ft\n",
       "0                 __label__ft zucker fabrik\n",
       "1  __label__ft Lebensmittel kommssionierung\n",
       "2               __label__mr geländer biegen\n",
       "3  __label__ct gebäudeausrüstung technische\n",
       "4         __label__ft kürbiskernöl softgels"
      ]
     },
     "execution_count": 128,
     "metadata": {},
     "output_type": "execute_result"
    }
   ],
   "source": [
    "df[['text_ft']].head()"
   ]
  },
  {
   "cell_type": "markdown",
   "metadata": {},
   "source": [
    "### training"
   ]
  },
  {
   "cell_type": "code",
   "execution_count": 129,
   "metadata": {},
   "outputs": [
    {
     "data": {
      "text/plain": [
       "((25826, 4), (11069, 4))"
      ]
     },
     "execution_count": 129,
     "metadata": {},
     "output_type": "execute_result"
    }
   ],
   "source": [
    "train, test = train_test_split(df, test_size=0.3, random_state=42, stratify=df.label_ft)\n",
    "train.shape, test.shape"
   ]
  },
  {
   "cell_type": "code",
   "execution_count": 130,
   "metadata": {},
   "outputs": [],
   "source": [
    "train.text_ft.to_csv('fasttext_train.train', index=False, header=False)\n",
    "test.text_ft.to_csv('fasttext_test.test', index=False, header=False)\n"
   ]
  },
  {
   "cell_type": "code",
   "execution_count": 131,
   "metadata": {},
   "outputs": [
    {
     "name": "stderr",
     "output_type": "stream",
     "text": [
      "Read 0M words\n",
      "Number of words:  20175\n",
      "Number of labels: 6\n",
      "Progress: 100.0% words/sec/thread:  804925 lr:  0.000000 avg.loss:  0.377915 ETA:   0h 0m 0s\n"
     ]
    }
   ],
   "source": [
    "model = fasttext.train_supervised(input=\"fasttext_train.train\")\n",
    "\n",
    "model.save_model(\"model.bin\")\n"
   ]
  },
  {
   "cell_type": "code",
   "execution_count": 132,
   "metadata": {},
   "outputs": [
    {
     "data": {
      "text/plain": [
       "(10903, 0.8766394570301752, 0.8766394570301752)"
      ]
     },
     "execution_count": 132,
     "metadata": {},
     "output_type": "execute_result"
    }
   ],
   "source": [
    "model.test(\"fasttext_test.test\", k=1)"
   ]
  },
  {
   "cell_type": "markdown",
   "metadata": {},
   "source": [
    "### single-prediction"
   ]
  },
  {
   "cell_type": "code",
   "execution_count": 133,
   "metadata": {},
   "outputs": [
    {
     "data": {
      "text/plain": [
       "('ft', 0.8498812317848206)"
      ]
     },
     "execution_count": 133,
     "metadata": {},
     "output_type": "execute_result"
    }
   ],
   "source": [
    "pred=model.predict(\"hello\", k=1)\n",
    "conf=pred[1][0]\n",
    "label=pred[0][0].replace('__label__', '')\n",
    "\n",
    "label, conf"
   ]
  },
  {
   "cell_type": "markdown",
   "metadata": {},
   "source": [
    "### multi-prediction"
   ]
  },
  {
   "cell_type": "code",
   "execution_count": 134,
   "metadata": {},
   "outputs": [
    {
     "name": "stderr",
     "output_type": "stream",
     "text": [
      "Warning : `load_model` does not return WordVectorModel or SupervisedModel any more, but a `FastText` object which is very similar.\n"
     ]
    }
   ],
   "source": [
    "# Load your trained FastText model\n",
    "model = fasttext.load_model('model.bin')\n",
    "\n",
    "# Assuming test_df is your test DataFrame with 'text' and 'label' columns\n",
    "test_texts = test['text'].tolist()\n",
    "true_labels = test['label'].tolist()\n",
    "\n",
    "# Make predictions using the FastText model\n",
    "predicted_labels = [model.predict(text)[0][0].replace('__label__', '') for text in test_texts]\n",
    "\n",
    "# Get unique labels\n",
    "all_labels = sorted(set(true_labels + predicted_labels))\n",
    "\n",
    "# Generate confusion matrix with labels\n",
    "conf_matrix = confusion_matrix(true_labels, predicted_labels, labels=all_labels)\n",
    "\n",
    "# Create a DataFrame with labeled rows and columns\n",
    "conf_matrix = pd.DataFrame(conf_matrix, index=all_labels, columns=all_labels)\n",
    "\n",
    "# Generate classification report\n",
    "class_report = classification_report(true_labels, predicted_labels)\n",
    "\n",
    "\n"
   ]
  },
  {
   "cell_type": "code",
   "execution_count": 135,
   "metadata": {},
   "outputs": [
    {
     "name": "stdout",
     "output_type": "stream",
     "text": [
      "\n",
      "Classification Report:\n",
      "\n",
      "              precision    recall  f1-score   support\n",
      "\n",
      "          ch       0.95      0.83      0.88      1092\n",
      "         cnc       0.87      0.73      0.79       761\n",
      "          ct       0.95      0.86      0.90      1503\n",
      "          ft       0.84      0.94      0.88      3353\n",
      "          mr       0.88      0.82      0.85      1490\n",
      "         pkg       0.86      0.89      0.88      2870\n",
      "\n",
      "    accuracy                           0.87     11069\n",
      "   macro avg       0.89      0.84      0.86     11069\n",
      "weighted avg       0.88      0.87      0.87     11069\n",
      "\n"
     ]
    }
   ],
   "source": [
    "# Print or use the results as needed\n",
    "print(\"\\nClassification Report:\\n\")\n",
    "\n",
    "print(class_report)\n",
    "\n"
   ]
  },
  {
   "cell_type": "code",
   "execution_count": 136,
   "metadata": {},
   "outputs": [
    {
     "name": "stdout",
     "output_type": "stream",
     "text": [
      "Confusion Matrix:\n",
      "\n"
     ]
    },
    {
     "data": {
      "text/html": [
       "<div>\n",
       "<style scoped>\n",
       "    .dataframe tbody tr th:only-of-type {\n",
       "        vertical-align: middle;\n",
       "    }\n",
       "\n",
       "    .dataframe tbody tr th {\n",
       "        vertical-align: top;\n",
       "    }\n",
       "\n",
       "    .dataframe thead th {\n",
       "        text-align: right;\n",
       "    }\n",
       "</style>\n",
       "<table border=\"1\" class=\"dataframe\">\n",
       "  <thead>\n",
       "    <tr style=\"text-align: right;\">\n",
       "      <th></th>\n",
       "      <th>ch</th>\n",
       "      <th>cnc</th>\n",
       "      <th>ct</th>\n",
       "      <th>ft</th>\n",
       "      <th>mr</th>\n",
       "      <th>pkg</th>\n",
       "    </tr>\n",
       "  </thead>\n",
       "  <tbody>\n",
       "    <tr>\n",
       "      <th>ch</th>\n",
       "      <td>902</td>\n",
       "      <td>4</td>\n",
       "      <td>5</td>\n",
       "      <td>126</td>\n",
       "      <td>8</td>\n",
       "      <td>47</td>\n",
       "    </tr>\n",
       "    <tr>\n",
       "      <th>cnc</th>\n",
       "      <td>3</td>\n",
       "      <td>553</td>\n",
       "      <td>9</td>\n",
       "      <td>69</td>\n",
       "      <td>73</td>\n",
       "      <td>54</td>\n",
       "    </tr>\n",
       "    <tr>\n",
       "      <th>ct</th>\n",
       "      <td>4</td>\n",
       "      <td>6</td>\n",
       "      <td>1292</td>\n",
       "      <td>102</td>\n",
       "      <td>45</td>\n",
       "      <td>54</td>\n",
       "    </tr>\n",
       "    <tr>\n",
       "      <th>ft</th>\n",
       "      <td>20</td>\n",
       "      <td>16</td>\n",
       "      <td>11</td>\n",
       "      <td>3138</td>\n",
       "      <td>8</td>\n",
       "      <td>160</td>\n",
       "    </tr>\n",
       "    <tr>\n",
       "      <th>mr</th>\n",
       "      <td>1</td>\n",
       "      <td>52</td>\n",
       "      <td>36</td>\n",
       "      <td>85</td>\n",
       "      <td>1222</td>\n",
       "      <td>94</td>\n",
       "    </tr>\n",
       "    <tr>\n",
       "      <th>pkg</th>\n",
       "      <td>18</td>\n",
       "      <td>7</td>\n",
       "      <td>14</td>\n",
       "      <td>229</td>\n",
       "      <td>36</td>\n",
       "      <td>2566</td>\n",
       "    </tr>\n",
       "  </tbody>\n",
       "</table>\n",
       "</div>"
      ],
      "text/plain": [
       "      ch  cnc    ct    ft    mr   pkg\n",
       "ch   902    4     5   126     8    47\n",
       "cnc    3  553     9    69    73    54\n",
       "ct     4    6  1292   102    45    54\n",
       "ft    20   16    11  3138     8   160\n",
       "mr     1   52    36    85  1222    94\n",
       "pkg   18    7    14   229    36  2566"
      ]
     },
     "execution_count": 136,
     "metadata": {},
     "output_type": "execute_result"
    }
   ],
   "source": [
    "print(\"Confusion Matrix:\\n\")\n",
    "\n",
    "conf_matrix\n"
   ]
  },
  {
   "cell_type": "code",
   "execution_count": null,
   "metadata": {},
   "outputs": [],
   "source": []
  },
  {
   "cell_type": "markdown",
   "metadata": {},
   "source": [
    "# Testing"
   ]
  },
  {
   "cell_type": "code",
   "execution_count": 30,
   "metadata": {},
   "outputs": [],
   "source": [
    "import requests"
   ]
  },
  {
   "cell_type": "code",
   "execution_count": 46,
   "metadata": {},
   "outputs": [],
   "source": [
    "\n",
    "url = 'http://127.0.0.1:8000/classify/'\n",
    "# url='http://0.0.0.0:80/classify'"
   ]
  },
  {
   "cell_type": "code",
   "execution_count": 47,
   "metadata": {},
   "outputs": [],
   "source": [
    "def test(text, url):\n",
    "    x = requests.post(url, json = {'text': text})\n",
    "    return x.text"
   ]
  },
  {
   "cell_type": "markdown",
   "metadata": {},
   "source": [
    "### correct-output"
   ]
  },
  {
   "cell_type": "code",
   "execution_count": 58,
   "metadata": {},
   "outputs": [
    {
     "data": {
      "text/plain": [
       "'{\"label\":\"ft\",\"conf\":1.0}'"
      ]
     },
     "execution_count": 58,
     "metadata": {},
     "output_type": "execute_result"
    }
   ],
   "source": [
    "test('zucker fabrik', url)"
   ]
  },
  {
   "cell_type": "markdown",
   "metadata": {},
   "source": [
    "### low-confidence"
   ]
  },
  {
   "cell_type": "code",
   "execution_count": 49,
   "metadata": {},
   "outputs": [
    {
     "data": {
      "text/plain": [
       "'{\"label\":\"undefined\",\"conf\":0.82}'"
      ]
     },
     "execution_count": 49,
     "metadata": {},
     "output_type": "execute_result"
    }
   ],
   "source": [
    "test('helloworld', url)"
   ]
  },
  {
   "cell_type": "markdown",
   "metadata": {},
   "source": [
    "### invalid-data-type"
   ]
  },
  {
   "cell_type": "code",
   "execution_count": 50,
   "metadata": {},
   "outputs": [
    {
     "data": {
      "text/plain": [
       "'{\"detail\":[{\"type\":\"string_type\",\"loc\":[\"body\",\"text\"],\"msg\":\"Input should be a valid string\",\"input\":5,\"url\":\"https://errors.pydantic.dev/2.6/v/string_type\"}]}'"
      ]
     },
     "execution_count": 50,
     "metadata": {},
     "output_type": "execute_result"
    }
   ],
   "source": [
    "test(5, url)\n"
   ]
  },
  {
   "cell_type": "code",
   "execution_count": null,
   "metadata": {},
   "outputs": [],
   "source": []
  },
  {
   "cell_type": "markdown",
   "metadata": {},
   "source": [
    "### input-too-long"
   ]
  },
  {
   "cell_type": "code",
   "execution_count": 56,
   "metadata": {},
   "outputs": [
    {
     "data": {
      "text/plain": [
       "'{\"detail\":[{\"type\":\"string_too_long\",\"loc\":[\"body\",\"text\"],\"msg\":\"String should have at most 1024 characters\",\"input\":\"zzzzzzzzzzzzzzzzzzzzzzzzzzzzzzzzzzzzzzzzzzzzzzzzzzzzzzzzzzzzzzzzzzzzzzzzzzzzzzzzzzzzzzzzzzzzzzzzzzzzzzzzzzzzzzzzzzzzzzzzzzzzzzzzzzzzzzzzzzzzzzzzzzzzzzzzzzzzzzzzzzzzzzzzzzzzzzzzzzzzzzzzzzzzzzzzzzzzzzzzzzzzzzzzzzzzzzzzzzzzzzzzzzzzzzzzzzzzzzzzzzzzzzzzzzzzzzzzzzzzzzzzzzzzzzzzzzzzzzzzzzzzzzzzzzzzzzzzzzzzzzzzzzzzzzzzzzzzzzzzzzzzzzzzzzzzzzzzzzzzzzzzzzzzzzzzzzzzzzzzzzzzzzzzzzzzzzzzzzzzzzzzzzzzzzzzzzzzzzzzzzzzzzzzzzzzzzzzzzzzzzzzzzzzzzzzzzzzzzzzzzzzzzzzzzzzzzzzzzzzzzzzzzzzzzzzzzzzzzzzzzzzzzzzzzzzzzzzzzzzzzzzzzzzzzzzzzzzzzzzzzzzzzzzzzzzzzzzzzzzzzzzzzzzzzzzzzzzzzzzzzzzzzzzzzzzzzzzzzzzzzzzzzzzzzzzzzzzzzzzzzzzzzzzzzzzzzzzzzzzzzzzzzzzzzzzzzzzzzzzzzzzzzzzzzzzzzzzzzzzzzzzzzzzzzzzzzzzzzzzzzzzzzzzzzzzzzzzzzzzzzzzzzzzzzzzzzzzzzzzzzzzzzzzzzzzzzzzzzzzzzzzzzzzzzzzzzzzzzzzzzzzzzzzzzzzzzzzzzzzzzzzzzzzzzzzzzzzzzzzzzzzzzzzzzzzzzzzzzzzzzzzzzzzzzzzzzzzzzzzzzzzzzzzzzzzzzzzzzzzzzzzzzzzzzzzzzzzzzzzzzzzzzzzzzzzzzzzzzzzzzzzzzzzzzzzzzzzzzzzzzzzzzzzzzzzzzzzzzzzzzzzzzzzzzzzzzzzzzzzzzzzzzzzzzzzzzzzzzzzzzzzzzzzzzzzzzzzzzzzzzzzzzzzzzzzzzzzzzzzzzzzzzzzzzzzzzzzzzzzzzzzzzzzzzzzzzzzzzzzzzzzzzzzzzzzzzzzzzzzzzzzzzzzzzzzzzzzzzzzzzzzzzzzzzzzzzzzzzzzzzzzzzzzzzzzzzzzzzzzzzzzzzzzzzzzzzzzzzzzzzzzzzzzzzzzzzzzzzzzzzzzzzzzzzzzzzzzzzzzzzzzzzzzzzzzzzzzzzzzzzzzzzzzzzzzzzzzzzzzzzzzzzzzzzzzzzzzzzzzzzzzzzzzzzzzzzzzzzzzzzzzzzzzzzzzzzzzzzzzzzzzzzzzzzzzzzzzzzzzzzzzzzzzzzzzzzzzzzzzzzzzzzzzzzzzzzzzzzzzzzzzzzzzzzzzzzzzzzzzzzzzzzzzzzzzzzzzzzzzzzzzzzzzzzzzzzzzzzzzzzzzzzzzzzzzzzzzzzzzzzzzzzzzzzzzzzzzzzzzzzzzzzzzzzzzzzzzzzzzzzzzzzzzzzzzzzzzzzzzzzzzzzzzzzzzzzzzzzzzzzzzzzzzzzzzzzzzzzzzzzzzzzzzzzzzzzzzzzzzzzzzzzzzzzzzzzzzzzzzzzzzzzzzzzzzzzzzzzzzzzzzzzzzzzzzzzzzzzzzzzzzzzzzzzzzzzzzzzzzzzzzzzzzzzzzzzzzzzzzzzzzzzzzzzzzzzzzzzzzzzzzzzzzzzzzzzzzzzzzzzzzzzzzzzzzzzzzzzzzzzzzzzzzzzzzzzzzzzzzzzzzzzzzzzzzzzzzzzzzzzzzzzzzzzzzzzzzzzzzzzzzzzzzzzzzzzzzzzzzzzzzzzzzzzzzzzzzzzzzzzzzzzzzzzzzzzzzzzzzzzzzzzzzzzzzzzzzzzzzzzzzzzzzzzzzzzzzzzzzzzzzzzzzzzzzzzzzzzzzzzzzzzzzzzzzzzzzzzzzzzzzzzzzzzzzzzzzzzzzzzzzzzzzzzzzzzzzzzzzzzzzzzzzzzzzzzzzzzzzzzzzzzzzzzzzzzzzzzzzzzzzzzzzzzzzzzzzzzzzzzzzzzzzzzzzzzzzzzzzzzzzzzzz\",\"ctx\":{\"max_length\":1024},\"url\":\"https://errors.pydantic.dev/2.6/v/string_too_long\"}]}'"
      ]
     },
     "execution_count": 56,
     "metadata": {},
     "output_type": "execute_result"
    }
   ],
   "source": [
    "test('z'*2048, url)\n"
   ]
  },
  {
   "cell_type": "code",
   "execution_count": null,
   "metadata": {},
   "outputs": [],
   "source": []
  },
  {
   "cell_type": "markdown",
   "metadata": {},
   "source": [
    "### input-too-short"
   ]
  },
  {
   "cell_type": "code",
   "execution_count": 57,
   "metadata": {},
   "outputs": [
    {
     "data": {
      "text/plain": [
       "'{\"detail\":[{\"type\":\"string_too_short\",\"loc\":[\"body\",\"text\"],\"msg\":\"String should have at least 2 characters\",\"input\":\"z\",\"ctx\":{\"min_length\":2},\"url\":\"https://errors.pydantic.dev/2.6/v/string_too_short\"}]}'"
      ]
     },
     "execution_count": 57,
     "metadata": {},
     "output_type": "execute_result"
    }
   ],
   "source": [
    "test('z', url)\n"
   ]
  },
  {
   "cell_type": "code",
   "execution_count": null,
   "metadata": {},
   "outputs": [],
   "source": []
  },
  {
   "cell_type": "code",
   "execution_count": 103,
   "metadata": {},
   "outputs": [],
   "source": [
    "from pypdf import PdfReader\n",
    "output='/Users/muhammadfaisal/Documents/jobs/visable/task/images'\n",
    "reader = PdfReader(\"/Users/muhammadfaisal/Documents/jobs/visable/task/product_catalogue_for_task2.pdf\")\n",
    "for page in reader.pages:\n",
    "    for image in page.images:\n",
    "        with open(f\"{output}/{image.name}\", \"wb\") as fp:\n",
    "            fp.write(image.data)"
   ]
  },
  {
   "cell_type": "code",
   "execution_count": 110,
   "metadata": {},
   "outputs": [
    {
     "name": "stdout",
     "output_type": "stream",
     "text": [
      "Druckdicht bis 150 bar für den Einbau in Hydraulik-/ Pneumatikzylinder\n",
      " ■Ausführung Stößel / Federtastmechanik \n",
      " ■Linearität bis 0,10 % \n",
      " ■Messbereiche 2...200 mmDruckdicht bis 150 bar für den Einbau in Hydraulik-/ Pneumatikzylinder  \n",
      "und Ventile\n",
      " ■kompakte Bauform \n",
      " ■Ausführung Stößel / Federtastmechanik\n",
      " ■Linearität bis 0,10 % \n",
      " ■Messbereiche 2...10 mm ■F18 SERIE  ■F14 SERIE\n",
      "  PRODUKTÜBERSICHT  |  INDUKTIVE SENSOREN − LVDT   7 \n",
      " ■IMCA - LVDT EXTERNELEKTRONIK  ■KAB - LVDT KABELELEKTRONIK\n",
      "Integriert ins Sensorkabel\n",
      " ■konfigurierbares Ausgangssignal 0…10 V, 0…5 V, ±5 V, ±10 V, 4…20 mA, \n",
      "0…20 mA\n",
      " ■sehr geringes Restrauschen\n",
      " ■integrierte Kabelbrucherkennung\n",
      " ■bis Schutzklasse IP68 Externelektronik für Schaltschrankeinbau\n",
      " ■konfigurierbares Ausgangssignal 0…10 V, 0…5 V, ±5 V, ±10 V, 4…20 mA, \n",
      "0…20 mA\n",
      " ■DIN-Schienen-Montage\n",
      " ■integrierte Kabelbrucherkennung mit Alarmausgang\n",
      " ■EDDYMOTION LVDT STANDARD\n",
      " Softwaretool für TX LVDT\n",
      " ■Analyse und Dokumentation mechanischer Bewegungen\n",
      " ■Funktionsumfang: Oszilloskop, Datalogger, Konfiguration\n",
      " ■als Download verfügbar\n",
      "\n"
     ]
    }
   ],
   "source": [
    "\n",
    "print(reader.pages[6].extract_text())"
   ]
  }
 ],
 "metadata": {
  "kernelspec": {
   "display_name": "py38",
   "language": "python",
   "name": "python3"
  },
  "language_info": {
   "codemirror_mode": {
    "name": "ipython",
    "version": 3
   },
   "file_extension": ".py",
   "mimetype": "text/x-python",
   "name": "python",
   "nbconvert_exporter": "python",
   "pygments_lexer": "ipython3",
   "version": "3.8.18"
  }
 },
 "nbformat": 4,
 "nbformat_minor": 2
}
